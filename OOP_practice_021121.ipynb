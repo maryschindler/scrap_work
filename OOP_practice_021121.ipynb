{
 "cells": [
  {
   "cell_type": "markdown",
   "id": "2314b9b3-2df4-4757-8714-5bfdc0a8e2cb",
   "metadata": {},
   "source": [
    "## Object-Oriented Programming"
   ]
  },
  {
   "cell_type": "markdown",
   "id": "b3b99648-5cad-48d0-99b6-142dc138fdc2",
   "metadata": {},
   "source": [
    "Following along with: https://realpython.com/python3-object-oriented-programming/<br>\n",
    "<br>\n",
    "Remember that classes are named with UpperCase by convention."
   ]
  },
  {
   "cell_type": "markdown",
   "id": "cd6e6666-90df-4ad0-981e-233a662f64c7",
   "metadata": {},
   "source": [
    "**Important Definitions**<br>\n",
    "Refer to if necessary\n",
    "\n",
    "Class: like an outline or blueprint for creating a new object \n",
    "\n",
    "Object: An instance of a class\n",
    "\n",
    "Methods: a function associated with/that's apart of a class\n",
    "\n",
    "Instance/Instantiate: An instance is an individual object of a certain class, ie. lucy = Dog(), an instance is created by 'instantiating' or invoking a class to create an object. \n",
    "\n",
    "Attributes: \"function objects that define corresponding methods of its instances.\" -Google, in simplier terms, the qualities of a Class\n",
    "- Instance Attributes: An instance attribute is a Python variable belonging to one, and only one, object. For example, lucy = Dog('Lucy', 10), the instance attributes are name 'Lucy' and age 10. \n",
    "- Class Attributes: A class attribute is a Python variable that belongs to a class rather than a particular object. For example, when setting up the class Dog: if you set an attribute before \\__init__\\, it's a Class Attribute. \n",
    "\n",
    "Instance Methods: \"methods which require an object of its class to be created before it can be called\" -Google\n",
    "\n",
    "Dunder Methods: methods whose names are preceeded and succeeded by two underscores ('double under'), ex. \\__init__\\.\n",
    "\n",
    "Inheritance: A feature resulting from defining a class inside a class, ex. class Labradoodle(Dog). The methods and attributes from the Dog class are 'inherited by' or carried over to the Labradoodle class. The inherited features can be overwritten or extended.\n",
    "\n",
    "Parent Class: In the example above, class Dog - the class from which features are inherited. \n",
    "\n",
    "Child Class: In the example above, class Labradoodle - the class that calls in the Parent Class\n",
    "\n",
    "Overridden: Where the Child Class has a same-named method as the Parent Class, the one from the Child 'overrides' and replaces the Parent's method.\n",
    "\n",
    "Extended: \"when a subclass defines a function that already exists in its superclass in order to add some other functionality in its own way, the function in the subclass is said to be an extended method and the mechanism is known as extending. It is a way by which Python shows Polymorphism.\" -GeeksforGeeks"
   ]
  },
  {
   "cell_type": "code",
   "execution_count": 1,
   "id": "6f6400d1-a93d-48bd-bc63-9e654ac5441d",
   "metadata": {},
   "outputs": [],
   "source": [
    "#Dog class with no attributes or methods\n",
    "class Dog:\n",
    "    pass"
   ]
  },
  {
   "cell_type": "code",
   "execution_count": 2,
   "id": "ccf70659-a879-4b1e-ad84-545acff20673",
   "metadata": {},
   "outputs": [
    {
     "data": {
      "text/plain": [
       "<__main__.Dog at 0x212b5d3b430>"
      ]
     },
     "execution_count": 2,
     "metadata": {},
     "output_type": "execute_result"
    }
   ],
   "source": [
    "#instantiating an object from the class\n",
    "Dog()"
   ]
  },
  {
   "cell_type": "code",
   "execution_count": 3,
   "id": "7d20dd41-c681-4be3-bdf2-89c5782e76b5",
   "metadata": {},
   "outputs": [
    {
     "data": {
      "text/plain": [
       "<__main__.Dog at 0x212b5d3b9d0>"
      ]
     },
     "execution_count": 3,
     "metadata": {},
     "output_type": "execute_result"
    }
   ],
   "source": [
    "Dog()\n",
    "#notice how these dog objects are stored at different places in the memory"
   ]
  },
  {
   "cell_type": "code",
   "execution_count": 5,
   "id": "a619531e-8564-46ea-9c34-13fcb45f8e19",
   "metadata": {},
   "outputs": [],
   "source": [
    "#creating a new Dog class with name, age attributes\n",
    "class Dog:\n",
    "    \n",
    "    #here is where you'd put a 'class attribute', given to \n",
    "    #ever  object instantiated from the class. ex, \n",
    "    species = \"Canis familiaris\"\n",
    "\n",
    "    def __init__(self, name, age):\n",
    "        self.name = name\n",
    "        self.age = age"
   ]
  },
  {
   "cell_type": "code",
   "execution_count": 6,
   "id": "d6d43520-fc48-4a17-8d1c-256105a88556",
   "metadata": {},
   "outputs": [],
   "source": [
    "lucy = Dog('Lucy', 10)\n",
    "fido = Dog('Fido', 4)"
   ]
  },
  {
   "cell_type": "code",
   "execution_count": 7,
   "id": "1b01745b-5ab1-4573-b8b0-b12a47098d12",
   "metadata": {},
   "outputs": [
    {
     "data": {
      "text/plain": [
       "<__main__.Dog at 0x212b5d3bee0>"
      ]
     },
     "execution_count": 7,
     "metadata": {},
     "output_type": "execute_result"
    }
   ],
   "source": [
    "lucy"
   ]
  },
  {
   "cell_type": "code",
   "execution_count": 8,
   "id": "17617400-f4a1-483e-88df-fb0799d12c3a",
   "metadata": {},
   "outputs": [
    {
     "data": {
      "text/plain": [
       "'Lucy'"
      ]
     },
     "execution_count": 8,
     "metadata": {},
     "output_type": "execute_result"
    }
   ],
   "source": [
    "lucy.name\n",
    "#can access attributes via dot notation\n",
    "#class or instance attributes"
   ]
  },
  {
   "cell_type": "code",
   "execution_count": 9,
   "id": "019e5294-6243-4509-b88d-a50a66c0fea1",
   "metadata": {},
   "outputs": [
    {
     "data": {
      "text/plain": [
       "'Canis familiaris'"
      ]
     },
     "execution_count": 9,
     "metadata": {},
     "output_type": "execute_result"
    }
   ],
   "source": [
    "lucy.species"
   ]
  },
  {
   "cell_type": "code",
   "execution_count": 10,
   "id": "fa6c8703-1290-4b29-84d2-b304d60a0b03",
   "metadata": {},
   "outputs": [],
   "source": [
    "#you can change these values dynamically\n",
    "lucy.age = 4"
   ]
  },
  {
   "cell_type": "code",
   "execution_count": 11,
   "id": "b57bfd7c-1463-40ac-9de5-74d8d53c0e84",
   "metadata": {},
   "outputs": [
    {
     "data": {
      "text/plain": [
       "4"
      ]
     },
     "execution_count": 11,
     "metadata": {},
     "output_type": "execute_result"
    }
   ],
   "source": [
    "lucy.age"
   ]
  },
  {
   "cell_type": "code",
   "execution_count": 12,
   "id": "2f27a27e-8785-4108-a734-e23700d782be",
   "metadata": {},
   "outputs": [],
   "source": [
    "#instance methods: functions inside a class that can \n",
    "#only be called from an instant of that class\n",
    "class Dog:\n",
    "    species = \"Canis familiaris\"\n",
    "\n",
    "    def __init__(self, name, age):\n",
    "        self.name = name\n",
    "        self.age = age\n",
    "\n",
    "    # Instance method\n",
    "    def description(self):\n",
    "        return f\"{self.name} is {self.age} years old\"\n",
    "\n",
    "    # Another instance method\n",
    "    def speak(self, sound):\n",
    "        return f\"{self.name} says {sound}\""
   ]
  },
  {
   "cell_type": "code",
   "execution_count": 13,
   "id": "0a87cba7-7fc1-4035-b02a-0534909efe42",
   "metadata": {},
   "outputs": [],
   "source": [
    "lucy = Dog('Lucy', 10)"
   ]
  },
  {
   "cell_type": "code",
   "execution_count": 14,
   "id": "43d38f51-6bac-4602-941f-6b8ed64fd28d",
   "metadata": {},
   "outputs": [
    {
     "data": {
      "text/plain": [
       "'Lucy is 10 years old'"
      ]
     },
     "execution_count": 14,
     "metadata": {},
     "output_type": "execute_result"
    }
   ],
   "source": [
    "lucy.description()"
   ]
  },
  {
   "cell_type": "code",
   "execution_count": 15,
   "id": "ba98a18c-2b51-4913-8d33-8e4b64244aba",
   "metadata": {},
   "outputs": [
    {
     "data": {
      "text/plain": [
       "'Lucy says Bark'"
      ]
     },
     "execution_count": 15,
     "metadata": {},
     "output_type": "execute_result"
    }
   ],
   "source": [
    "lucy.speak('Bark')"
   ]
  },
  {
   "cell_type": "code",
   "execution_count": 17,
   "id": "84ce4bb9-f5bc-4200-a8a4-df342922c0a8",
   "metadata": {},
   "outputs": [
    {
     "name": "stdout",
     "output_type": "stream",
     "text": [
      "<__main__.Dog object at 0x00000212B5D3BC10>\n"
     ]
    }
   ],
   "source": [
    "print(lucy)\n",
    "#isn't very useful"
   ]
  },
  {
   "cell_type": "code",
   "execution_count": 18,
   "id": "c8008879-fa05-4b8d-b040-ed5497137c4b",
   "metadata": {},
   "outputs": [],
   "source": [
    "#by establishing a __str__(self), print() will return the statement:\n",
    "class Dog:\n",
    "    species = \"Canis familiaris\"\n",
    "\n",
    "    def __init__(self, name, age):\n",
    "        self.name = name\n",
    "        self.age = age\n",
    "\n",
    "    # Replace .description() with __str__():\n",
    "    def __str__(self):\n",
    "        return f\"{self.name} is {self.age} years old\"\n",
    "\n",
    "    # Another instance method\n",
    "    def speak(self, sound):\n",
    "        return f\"{self.name} says {sound}\""
   ]
  },
  {
   "cell_type": "code",
   "execution_count": 20,
   "id": "b7913178-0eb7-4294-a6d7-aec71658ef49",
   "metadata": {},
   "outputs": [],
   "source": [
    "lucy = Dog('Lucy', 10)"
   ]
  },
  {
   "cell_type": "code",
   "execution_count": 21,
   "id": "0a901600-2713-4f67-b052-ad04359a3434",
   "metadata": {},
   "outputs": [
    {
     "name": "stdout",
     "output_type": "stream",
     "text": [
      "Lucy is 10 years old\n"
     ]
    }
   ],
   "source": [
    "print(lucy)\n",
    "#more useful than ''<__main__.Dog object at 0x00000212B5D3BC10>'"
   ]
  },
  {
   "cell_type": "code",
   "execution_count": 28,
   "id": "ede91574-d2b2-4327-99a6-c39899c09a1d",
   "metadata": {},
   "outputs": [],
   "source": [
    "#knowledge check:\n",
    "class Car:\n",
    "    def __init__(self, color, mileage):\n",
    "        self.color = color\n",
    "        self.mileage = mileage\n",
    "        \n",
    "    def __str__(self):\n",
    "        return f\"The {self.color} car has {self.mileage} miles\""
   ]
  },
  {
   "cell_type": "code",
   "execution_count": 29,
   "id": "cce00838-e0bd-44da-b88a-60b24f52d0d3",
   "metadata": {},
   "outputs": [
    {
     "name": "stdout",
     "output_type": "stream",
     "text": [
      "The Red car has 20000 miles\n",
      "The Blue car has 30000 miles\n"
     ]
    }
   ],
   "source": [
    "print(Car('Red', 20_000))\n",
    "print(Car('Blue', 30_000))"
   ]
  },
  {
   "cell_type": "code",
   "execution_count": 30,
   "id": "11a2f9c9-286f-4d1d-80de-254abc3b1461",
   "metadata": {},
   "outputs": [],
   "source": [
    "#or\n",
    "red_car = Car('Red', 20_000)\n",
    "blue_car = Car('Blue', 30_000)"
   ]
  },
  {
   "cell_type": "code",
   "execution_count": 33,
   "id": "8ec5e177-c9ac-4d4a-b489-8116cc3c7836",
   "metadata": {},
   "outputs": [
    {
     "name": "stdout",
     "output_type": "stream",
     "text": [
      "The Red car has 20000 miles\n",
      "The Blue car has 30000 miles\n"
     ]
    }
   ],
   "source": [
    "print(red_car)\n",
    "print(blue_car)"
   ]
  },
  {
   "cell_type": "code",
   "execution_count": 35,
   "id": "399a0de3-0502-47dc-8bcb-4f0d453ecd5c",
   "metadata": {},
   "outputs": [],
   "source": [
    "#moving onto object inheritance, imperfect analogy: like genetic inheritance \n",
    "#a new Dog class that includes 'breed':\n",
    "\n",
    "class Dog:\n",
    "    species = \"Canis familiaris\"\n",
    "\n",
    "    def __init__(self, name, age, breed):\n",
    "        self.name = name\n",
    "        self.age = age\n",
    "        self.breed = breed"
   ]
  },
  {
   "cell_type": "code",
   "execution_count": 36,
   "id": "57413136-0956-4525-a118-e94c4c7a64d0",
   "metadata": {},
   "outputs": [],
   "source": [
    "lucy = Dog(\"Lucy\", 10, \"Labradoodle\")\n",
    "fido = Dog('Fido', 4, 'Mongrel')\n",
    "buddy = Dog(\"Buddy\", 9, \"Dachshund\")\n",
    "jack = Dog(\"Jack\", 3, \"Bulldog\")"
   ]
  },
  {
   "cell_type": "code",
   "execution_count": 55,
   "id": "a68085c6-a866-491c-859e-38c5ada924f7",
   "metadata": {},
   "outputs": [],
   "source": [
    "class Dog:\n",
    "    species = \"Canis familiaris\"\n",
    "\n",
    "    def __init__(self, name, age):\n",
    "        self.name = name\n",
    "        self.age = age\n",
    "\n",
    "    def __str__(self):\n",
    "        return f\"{self.name} is {self.age} years old\"\n",
    "\n",
    "    def speak(self, sound):\n",
    "        return f\"{self.name} says {sound}\""
   ]
  },
  {
   "cell_type": "code",
   "execution_count": 56,
   "id": "257c9a27-7886-4941-a016-6ec18a7d63e6",
   "metadata": {},
   "outputs": [],
   "source": [
    "#you create a child class by placing the parent class in pararenthese when defining it:\n",
    "class Labradoodle(Dog):\n",
    "    pass\n",
    "\n",
    "class Mongrel(Dog):\n",
    "    pass\n",
    "\n",
    "class Dachshund(Dog):\n",
    "    pass\n",
    "\n",
    "class Bulldog(Dog):\n",
    "    pass"
   ]
  },
  {
   "cell_type": "code",
   "execution_count": 57,
   "id": "403a3d6e-c09c-4551-a66e-85f832c5dc19",
   "metadata": {},
   "outputs": [],
   "source": [
    "lucy = Labradoodle('Lucy', 10)\n",
    "fido = Mongrel('Fido', 4)\n",
    "buddy = Dachshund('Buddy', 9)\n",
    "jack = Bulldog('Jack', 3)"
   ]
  },
  {
   "cell_type": "code",
   "execution_count": 58,
   "id": "801f76e1-39a8-4109-a973-bd8a9c784e2e",
   "metadata": {},
   "outputs": [
    {
     "name": "stdout",
     "output_type": "stream",
     "text": [
      "Lucy is 10 years old\n"
     ]
    }
   ],
   "source": [
    "print(lucy)"
   ]
  },
  {
   "cell_type": "code",
   "execution_count": 59,
   "id": "1b2e38c5-e416-4a0b-af78-8d08fff738b1",
   "metadata": {},
   "outputs": [
    {
     "data": {
      "text/plain": [
       "__main__.Labradoodle"
      ]
     },
     "execution_count": 59,
     "metadata": {},
     "output_type": "execute_result"
    }
   ],
   "source": [
    "#type() is used to determine what class a given object belongs to\n",
    "type(lucy)"
   ]
  },
  {
   "cell_type": "code",
   "execution_count": 60,
   "id": "ca2b3a10-cf5a-4b5a-b868-def298d25710",
   "metadata": {},
   "outputs": [
    {
     "data": {
      "text/plain": [
       "True"
      ]
     },
     "execution_count": 60,
     "metadata": {},
     "output_type": "execute_result"
    }
   ],
   "source": [
    "#you can use, isinstance() to check for a specific classes (can be used to confirm parent classes):\n",
    "isinstance(lucy, Dog)"
   ]
  },
  {
   "cell_type": "code",
   "execution_count": 61,
   "id": "482234ed-13c6-4237-8de3-dba5d8f6c7a5",
   "metadata": {},
   "outputs": [
    {
     "data": {
      "text/plain": [
       "False"
      ]
     },
     "execution_count": 61,
     "metadata": {},
     "output_type": "execute_result"
    }
   ],
   "source": [
    "#yes lucy is a Dog, but is she a Mongrel?\n",
    "isinstance(lucy, Mongrel)"
   ]
  },
  {
   "cell_type": "code",
   "execution_count": 62,
   "id": "e6b848eb-2b79-45ed-85bd-52865b97f800",
   "metadata": {},
   "outputs": [
    {
     "data": {
      "text/plain": [
       "__main__.Bulldog"
      ]
     },
     "execution_count": 62,
     "metadata": {},
     "output_type": "execute_result"
    }
   ],
   "source": [
    "type(jack)"
   ]
  },
  {
   "cell_type": "code",
   "execution_count": 71,
   "id": "9f494944-e331-4170-ac3c-a247f5b2a1e0",
   "metadata": {},
   "outputs": [],
   "source": [
    "#now lets override the 'speak' method from the Dog parent class:\n",
    "class Labradoodle(Dog):\n",
    "    def speak(self, sound = \"Bark\"):\n",
    "        return f\"{self.name} says {sound}\"\n",
    "\n",
    "class Mongrel(Dog):\n",
    "    def speak(self, sound = \"Woof\"):\n",
    "        return f\"{self.name} says {sound}\"\n",
    "\n",
    "class Dachshund(Dog):\n",
    "    def speak(self, sound = \"Arf\"):\n",
    "        return f\"{self.name} says {sound}\"\n",
    "\n",
    "class Bulldog(Dog):\n",
    "    def speak(self, sound = \"Ruff\"):\n",
    "        return f\"{self.name} says {sound}\""
   ]
  },
  {
   "cell_type": "code",
   "execution_count": 65,
   "id": "45fa6f82-f796-4cfb-84b6-d581fb071c97",
   "metadata": {},
   "outputs": [],
   "source": [
    "lucy = Labradoodle('Lucy', 10)"
   ]
  },
  {
   "cell_type": "code",
   "execution_count": 66,
   "id": "10f730ab-eaf1-46b6-a78b-48447ed92ffd",
   "metadata": {},
   "outputs": [
    {
     "data": {
      "text/plain": [
       "'Lucy says Bark'"
      ]
     },
     "execution_count": 66,
     "metadata": {},
     "output_type": "execute_result"
    }
   ],
   "source": [
    "lucy.speak()"
   ]
  },
  {
   "cell_type": "code",
   "execution_count": 67,
   "id": "060d3711-1ccc-4b59-bf1a-d9e22c322124",
   "metadata": {},
   "outputs": [],
   "source": [
    "fido = Mongrel('Fido', 4)"
   ]
  },
  {
   "cell_type": "code",
   "execution_count": 69,
   "id": "7eaceba8-6e62-4c90-a9dd-d9e1034ba33b",
   "metadata": {},
   "outputs": [
    {
     "data": {
      "text/plain": [
       "'Fido says Woof'"
      ]
     },
     "execution_count": 69,
     "metadata": {},
     "output_type": "execute_result"
    }
   ],
   "source": [
    "fido.speak()"
   ]
  },
  {
   "cell_type": "code",
   "execution_count": 75,
   "id": "62717b68-9493-4382-bb4f-859a6de8171a",
   "metadata": {},
   "outputs": [],
   "source": [
    "#You can access the parent class from inside a method of a child class by using super():\n",
    "class Labradoodle(Dog):\n",
    "    def speak(self, sound = \"Woof\"):\n",
    "        return super().speak(sound)"
   ]
  },
  {
   "cell_type": "code",
   "execution_count": 76,
   "id": "9d7d99b8-2e06-44c6-bc1c-1327e1d8e9a2",
   "metadata": {},
   "outputs": [],
   "source": [
    "lucy = Labradoodle('Lucy', 10)"
   ]
  },
  {
   "cell_type": "code",
   "execution_count": 78,
   "id": "9b505824-2da3-4b8e-bc80-9de723898aa5",
   "metadata": {},
   "outputs": [
    {
     "data": {
      "text/plain": [
       "'Lucy says Bark'"
      ]
     },
     "execution_count": 78,
     "metadata": {},
     "output_type": "execute_result"
    }
   ],
   "source": [
    "#now we return:\n",
    "lucy.speak('Bark')"
   ]
  },
  {
   "cell_type": "code",
   "execution_count": 79,
   "id": "f1878ea2-90d7-4139-8238-c77aa7a7ff64",
   "metadata": {},
   "outputs": [
    {
     "data": {
      "text/plain": [
       "'Lucy says Woof'"
      ]
     },
     "execution_count": 79,
     "metadata": {},
     "output_type": "execute_result"
    }
   ],
   "source": [
    "#where before we had:\n",
    "lucy.speak()"
   ]
  },
  {
   "cell_type": "markdown",
   "id": "dc92972a-284a-4dfa-9407-9f17641ef293",
   "metadata": {},
   "source": [
    "Directly from RealPython: \"super() does much more than just search the parent class for a method or an attribute. It traverses the entire class hierarchy for a matching method or attribute. If you aren’t careful, super() can have surprising results.\""
   ]
  },
  {
   "cell_type": "code",
   "execution_count": 80,
   "id": "d03d327f-14c9-467b-87a0-cdf87fc70a9b",
   "metadata": {},
   "outputs": [],
   "source": [
    "#knowledge check:\n",
    "class Dog:\n",
    "    species = \"Canis familiaris\"\n",
    "\n",
    "    def __init__(self, name, age):\n",
    "        self.name = name\n",
    "        self.age = age\n",
    "\n",
    "    def __str__(self):\n",
    "        return f\"{self.name} is {self.age} years old\"\n",
    "\n",
    "    def speak(self, sound):\n",
    "        return f\"{self.name} says {sound}\""
   ]
  },
  {
   "cell_type": "code",
   "execution_count": 87,
   "id": "8acf5bc6-dd7f-4cde-b750-5ad26671810a",
   "metadata": {},
   "outputs": [],
   "source": [
    "class GoldenRetriever(Dog):\n",
    "    def speak(self, sound = 'Bark'):\n",
    "        return f\"{self.name} says {sound}\""
   ]
  },
  {
   "cell_type": "code",
   "execution_count": 88,
   "id": "60527efc-9319-492c-9667-e7ed026cf1c3",
   "metadata": {},
   "outputs": [],
   "source": [
    "goldie = GoldenRetriever('Goldie', 2)"
   ]
  },
  {
   "cell_type": "code",
   "execution_count": 89,
   "id": "f648a677-c6f8-4478-92a7-6e00de465cdd",
   "metadata": {},
   "outputs": [
    {
     "data": {
      "text/plain": [
       "2"
      ]
     },
     "execution_count": 89,
     "metadata": {},
     "output_type": "execute_result"
    }
   ],
   "source": [
    "goldie.age"
   ]
  },
  {
   "cell_type": "code",
   "execution_count": 90,
   "id": "885dd04a-1de9-4261-9c8f-323d57d898dd",
   "metadata": {},
   "outputs": [
    {
     "data": {
      "text/plain": [
       "'Goldie says Bark'"
      ]
     },
     "execution_count": 90,
     "metadata": {},
     "output_type": "execute_result"
    }
   ],
   "source": [
    "goldie.speak()"
   ]
  },
  {
   "cell_type": "markdown",
   "id": "687e8be4-8419-475c-a498-9589c4934064",
   "metadata": {},
   "source": [
    "Other referenced/useful websites:\n",
    "\n",
    "https://www.geeksforgeeks.org/static-methods-vs-instance-methods-java/\n",
    "https://www.section.io/engineering-education/dunder-methods-python/\n",
    "https://www.tutorialspoint.com/How-to-override-class-methods-in-Python#:~:text=Overriding%20is%20the%20property%20of,one%20of%20its%20base%20classes.&text=In%20Python%20method%20overriding%20occurs,method%20in%20the%20parent%20class.\n",
    "https://www.geeksforgeeks.org/extend-class-method-in-python/#:~:text=In%20Python%2C%20when%20a%20subclass,by%20which%20Python%20shows%20Polymorphism"
   ]
  },
  {
   "cell_type": "code",
   "execution_count": null,
   "id": "1a4df994-9d07-423a-b85a-08fba7c983b9",
   "metadata": {},
   "outputs": [],
   "source": []
  }
 ],
 "metadata": {
  "kernelspec": {
   "display_name": "Python 3",
   "language": "python",
   "name": "python3"
  },
  "language_info": {
   "codemirror_mode": {
    "name": "ipython",
    "version": 3
   },
   "file_extension": ".py",
   "mimetype": "text/x-python",
   "name": "python",
   "nbconvert_exporter": "python",
   "pygments_lexer": "ipython3",
   "version": "3.8.8"
  }
 },
 "nbformat": 4,
 "nbformat_minor": 5
}
