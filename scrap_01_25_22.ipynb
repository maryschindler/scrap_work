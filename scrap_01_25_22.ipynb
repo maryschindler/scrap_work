{
 "cells": [
  {
   "cell_type": "code",
   "execution_count": 11,
   "id": "bc634ef0-9908-4084-acc9-f85b15021236",
   "metadata": {},
   "outputs": [],
   "source": [
    "nums = [9, 1, 3, 5, 7]"
   ]
  },
  {
   "cell_type": "code",
   "execution_count": 12,
   "id": "f04d6996-9783-4ef2-9c7d-0ce59bee26f2",
   "metadata": {},
   "outputs": [
    {
     "name": "stdout",
     "output_type": "stream",
     "text": [
      "[9, 1, 3, 5, 7]\n"
     ]
    }
   ],
   "source": [
    "print(nums)"
   ]
  },
  {
   "cell_type": "code",
   "execution_count": 28,
   "id": "d8fb9f33-0272-4c26-8206-c4f2f4f308f5",
   "metadata": {},
   "outputs": [],
   "source": [
    "# In this kata, your job is to return the two distinct highest values in a list. \n",
    "# If there're less than 2 unique values, return as many of them, as possible.\n",
    "\n",
    "# The result should also be ordered from highest to lowest.\n",
    "\n",
    "def two_highest(arg1):\n",
    "    output = []\n",
    "\n",
    "    #making list of unique, sorted numbers:\n",
    "    unique_nums = list(set(arg1))\n",
    "    unique_nums.sort()\n",
    "    \n",
    "    #appending output with the max value:\n",
    "    output.append(max(unique_nums))\n",
    "    \n",
    "    #removing the original max value and appending the second largest value to output:\n",
    "    unique_nums.remove(max(unique_nums))\n",
    "    output.append(max(unique_nums))\n",
    "    \n",
    "    return output"
   ]
  },
  {
   "cell_type": "code",
   "execution_count": 29,
   "id": "16756bd8-c2c9-4ad6-8302-9821df0b566d",
   "metadata": {},
   "outputs": [
    {
     "name": "stdout",
     "output_type": "stream",
     "text": [
      "[9]\n"
     ]
    },
    {
     "data": {
      "text/plain": [
       "[9, 7]"
      ]
     },
     "execution_count": 29,
     "metadata": {},
     "output_type": "execute_result"
    }
   ],
   "source": [
    "two_highest(nums)\n",
    "#this did not work in testing, the solution is much more simple than what I was trying:"
   ]
  },
  {
   "cell_type": "code",
   "execution_count": 34,
   "id": "f619b8a4-a2fe-436c-8972-edce5f376d2b",
   "metadata": {},
   "outputs": [],
   "source": [
    "def two_highest(ls):\n",
    "    result = sorted(list(set(ls)), reverse=True)[:2]\n",
    "    return result if isinstance(ls, (list)) else False"
   ]
  },
  {
   "cell_type": "code",
   "execution_count": 32,
   "id": "6c0e12ea-d83d-45d6-a1c7-680893f68095",
   "metadata": {},
   "outputs": [],
   "source": [
    "# You might know some pretty large perfect squares. But what about the NEXT one?\n",
    "\n",
    "# Complete the findNextSquare method that finds the next integral perfect square after the one passed as a parameter. \n",
    "# Recall that an integral perfect square is an integer n such that sqrt(n) is also an integer.\n",
    "\n",
    "# If the parameter is itself not a perfect square then -1 should be returned. You may assume the parameter is non-negative.\n",
    "\n",
    "def find_next_square(sq):\n",
    "    perfect_sq = sq ** 0.5\n",
    "    if perfect_sq.is_integer() == False:\n",
    "        # Return the next square if sq is a square, -1 otherwise\n",
    "        return -1\n",
    "    else:\n",
    "        return (perfect_sq + 1) ** 2"
   ]
  },
  {
   "cell_type": "code",
   "execution_count": 33,
   "id": "f0c0d956-ff2d-462d-9fcb-0f9f7a52402a",
   "metadata": {},
   "outputs": [
    {
     "data": {
      "text/plain": [
       "144.0"
      ]
     },
     "execution_count": 33,
     "metadata": {},
     "output_type": "execute_result"
    }
   ],
   "source": [
    "find_next_square(121)"
   ]
  },
  {
   "cell_type": "code",
   "execution_count": null,
   "id": "2d565d52-ccbc-48aa-89e4-36ce847db5fe",
   "metadata": {},
   "outputs": [],
   "source": []
  }
 ],
 "metadata": {
  "kernelspec": {
   "display_name": "Python 3",
   "language": "python",
   "name": "python3"
  },
  "language_info": {
   "codemirror_mode": {
    "name": "ipython",
    "version": 3
   },
   "file_extension": ".py",
   "mimetype": "text/x-python",
   "name": "python",
   "nbconvert_exporter": "python",
   "pygments_lexer": "ipython3",
   "version": "3.8.8"
  }
 },
 "nbformat": 4,
 "nbformat_minor": 5
}
